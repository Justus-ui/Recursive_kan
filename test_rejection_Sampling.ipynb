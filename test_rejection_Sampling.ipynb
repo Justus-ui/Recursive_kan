{
 "cells": [
  {
   "cell_type": "code",
   "execution_count": 1,
   "metadata": {},
   "outputs": [],
   "source": [
    "import numpy as np\n",
    "import matplotlib.pyplot as plt"
   ]
  },
  {
   "cell_type": "code",
   "execution_count": 14,
   "metadata": {},
   "outputs": [
    {
     "name": "stdout",
     "output_type": "stream",
     "text": [
      "Input values:\n",
      " [[0.1  0.2 ]\n",
      " [0.2  0.25]\n",
      " [0.5  0.7 ]\n",
      " [0.1  0.8 ]\n",
      " [0.8  0.8 ]]\n",
      "PDF values: [11.11111111 11.11111111  0.          0.         25.        ]\n"
     ]
    }
   ],
   "source": [
    "import numpy as np\n",
    "\n",
    "def custom_pdf(x, regions, region_values):\n",
    "    \"\"\"\n",
    "    Define a custom probability density function (PDF) for a higher-dimensional input.\n",
    "    Returns a region-specific value for each vector in x if it lies within any of the regions.\n",
    "    Otherwise, returns 0.\n",
    "    \n",
    "    Parameters:\n",
    "    - x: A numpy array of shape (N, dimension) representing N vectors.\n",
    "    - regions: A numpy array of shape (N_Regions, dimension, 2) where each region defines\n",
    "               the lower and upper bounds for each dimension.\n",
    "    - region_values: A numpy array of shape (N_Regions,) where each element defines the\n",
    "                     value to be returned for the corresponding region.\n",
    "    \n",
    "    Returns:\n",
    "    - A numpy array of size N with PDF values corresponding to each vector and region.\n",
    "    \"\"\"\n",
    "    # Initialize a boolean array to check if each vector is in any of the regions\n",
    "    in_region = np.zeros(x.shape[0], dtype=int)  # Store which region the vector belongs to\n",
    "    \n",
    "    # Iterate through each region\n",
    "    for i, region in enumerate(regions):\n",
    "        # Check if x is within the bounds of this region (per dimension)\n",
    "        condition = np.all((x >= region[:, 0]) & (x <= region[:, 1]), axis=1)\n",
    "        \n",
    "        # Mark the regions where the vector satisfies the condition\n",
    "        in_region |= condition * (i + 1)  # Mark with a positive region index (1-based)\n",
    "    \n",
    "    # Map the region index to the region value and return it, 0 if not in any region\n",
    "    result = np.zeros(x.shape[0])\n",
    "    for i in range(len(regions)):\n",
    "        result[in_region == (i + 1)] = region_values[i]\n",
    "    return result\n",
    "\n",
    "# Example usage:\n",
    "x_values = np.array([[0.1, 0.2],   # Should return 5/3 if in any region\n",
    "                     [0.2, 0.25],  # Should return 5/3 if in any region\n",
    "                     [0.5, 0.7],   # Should return 0\n",
    "                     [0.1, 0.8],\n",
    "                     [0.8, 0.8]])  # Should return 0\n",
    "\n",
    "# Define regions: shape (N_Regions, dimension, 2)\n",
    "# Region 1: (0, 0.3) for both dimensions, Region 2: (0.6, 0.9) for both dimensions\n",
    "regions = np.array([[[0, 0.3], [0, 0.3]],  # Region 1\n",
    "                    [[0.6, 0.9], [0.7, 0.9]]])  # Region 2\n",
    "region_values = np.array([1 / 0.3**2, 1 / 0.2**2])\n",
    "\n",
    "pdf_values = custom_pdf(x_values, regions, region_values)\n",
    "\n",
    "print(\"Input values:\\n\", x_values)\n",
    "print(\"PDF values:\", pdf_values)\n"
   ]
  },
  {
   "cell_type": "code",
   "execution_count": null,
   "metadata": {},
   "outputs": [],
   "source": [
    "densties = ['uniform', 'mixture_uniform']\n",
    "regions = [\n",
    "        torch.tensor([[.0, .3]]),\n",
    "        torch.tensor([[.6, .9]])\n",
    "        ]\n",
    "weights = [.5, .5]"
   ]
  },
  {
   "cell_type": "code",
   "execution_count": 10,
   "metadata": {},
   "outputs": [
    {
     "ename": "NameError",
     "evalue": "name 'torch' is not defined",
     "output_type": "error",
     "traceback": [
      "\u001b[1;31m---------------------------------------------------------------------------\u001b[0m",
      "\u001b[1;31mNameError\u001b[0m                                 Traceback (most recent call last)",
      "Cell \u001b[1;32mIn[10], line 37\u001b[0m\n\u001b[0;32m     34\u001b[0m max_pdf_value \u001b[38;5;241m=\u001b[39m \u001b[38;5;241m1.0\u001b[39m  \u001b[38;5;66;03m# The max value of our custom PDF (we can adjust this for scaling)\u001b[39;00m\n\u001b[0;32m     36\u001b[0m \u001b[38;5;66;03m# Generate samples using rejection sampling\u001b[39;00m\n\u001b[1;32m---> 37\u001b[0m samples \u001b[38;5;241m=\u001b[39m \u001b[43mrejection_sampling\u001b[49m\u001b[43m(\u001b[49m\u001b[43mcustom_pdf\u001b[49m\u001b[43m,\u001b[49m\u001b[43m \u001b[49m\u001b[43mn_samples\u001b[49m\u001b[43m,\u001b[49m\u001b[43m \u001b[49m\u001b[43mx_range\u001b[49m\u001b[43m,\u001b[49m\u001b[43m \u001b[49m\u001b[43mmax_pdf_value\u001b[49m\u001b[43m)\u001b[49m\n\u001b[0;32m     39\u001b[0m \u001b[38;5;66;03m# Plot the result\u001b[39;00m\n\u001b[0;32m     40\u001b[0m x_vals \u001b[38;5;241m=\u001b[39m np\u001b[38;5;241m.\u001b[39mlinspace(x_range[\u001b[38;5;241m0\u001b[39m], x_range[\u001b[38;5;241m1\u001b[39m], \u001b[38;5;241m1000\u001b[39m)\n",
      "Cell \u001b[1;32mIn[10], line 29\u001b[0m, in \u001b[0;36mrejection_sampling\u001b[1;34m(pdf, n_samples, x_range, max_pdf_value)\u001b[0m\n\u001b[0;32m     27\u001b[0m     \u001b[38;5;28;01mif\u001b[39;00m y_candidate \u001b[38;5;241m<\u001b[39m pdf(x_candidate):\n\u001b[0;32m     28\u001b[0m         samples\u001b[38;5;241m.\u001b[39mappend(x_candidate)\n\u001b[1;32m---> 29\u001b[0m \u001b[38;5;28;01mreturn\u001b[39;00m \u001b[43mtorch\u001b[49m\u001b[38;5;241m.\u001b[39mtensor(samples)\n",
      "\u001b[1;31mNameError\u001b[0m: name 'torch' is not defined"
     ]
    }
   ],
   "source": [
    "def custom_pdf(x):\n",
    "    \"\"\"\n",
    "    Define a custom probability density function (PDF).\n",
    "    \"\"\"\n",
    "    return np.where(((x > 0) & (x < 0.3)) | ((x > 0.6) & (x < 0.9)), 5 / 3, 0)\n",
    "\n",
    "def rejection_sampling(pdf, n_samples, x_range, max_pdf_value=1.0):\n",
    "    \"\"\"\n",
    "    Rejection sampling to draw samples from a given PDF.\n",
    "    \n",
    "    Parameters:\n",
    "    - pdf: The custom PDF function.\n",
    "    - n_samples: Number of samples to generate.\n",
    "    - x_range: Range of x values to sample from.\n",
    "    - max_pdf_value: The maximum value of the PDF to normalize the proposal distribution.\n",
    "    \n",
    "    Returns:\n",
    "    - samples: List of samples drawn from the PDF.\n",
    "    \"\"\"\n",
    "    samples = []\n",
    "    while len(samples) < n_samples:\n",
    "        # Generate random candidate sample from the proposal distribution (uniform)\n",
    "        x_candidate = np.random.uniform(*x_range)\n",
    "        y_candidate = np.random.uniform(0, max_pdf_value)\n",
    "        \n",
    "        # Accept the sample with probability proportional to the PDF value\n",
    "        if y_candidate < pdf(x_candidate):\n",
    "            samples.append(x_candidate)\n",
    "    return torch.tensor(samples)\n",
    "\n",
    "# Parameters\n",
    "n_samples = 1000\n",
    "x_range = (-5, 5)  # We sample over the range [-5, 5]\n",
    "max_pdf_value = 1.0  # The max value of our custom PDF (we can adjust this for scaling)\n",
    "\n",
    "# Generate samples using rejection sampling\n",
    "samples = rejection_sampling(custom_pdf, n_samples, x_range, max_pdf_value)\n",
    "\n",
    "# Plot the result\n",
    "x_vals = np.linspace(x_range[0], x_range[1], 1000)\n",
    "y_vals = custom_pdf(x_vals)\n",
    "\n",
    "plt.hist(samples, bins=30, density=True, alpha=0.6, label='Rejection Sampling', color='blue')\n",
    "plt.plot(x_vals, y_vals, label='True PDF', color='red')\n",
    "plt.legend()\n",
    "plt.title(\"Rejection Sampling from a Custom PDF\")\n",
    "plt.show()"
   ]
  },
  {
   "cell_type": "code",
   "execution_count": 19,
   "metadata": {},
   "outputs": [
    {
     "name": "stdout",
     "output_type": "stream",
     "text": [
      "Characteristic function value at k = 0.123: (-4.817922115325928-21.364042282104492j)\n"
     ]
    }
   ],
   "source": [
    "import torch\n",
    "\n",
    "# Example: Create a sample drawn from a normal distribution (mean=0, std=1)\n",
    "n_samples = 1024\n",
    "sample = torch.randn(n_samples)\n",
    "\n",
    "# Define k value (for example, k = 0.123)\n",
    "k_value = 0.123\n",
    "\n",
    "# Apply the FFT to the sample\n",
    "sample_ft = torch.fft.fft(sample)\n",
    "\n",
    "# Frequency bins corresponding to the FFT output\n",
    "frequencies = torch.fft.fftfreq(n_samples)\n",
    "\n",
    "# Now, we need to compute the characteristic function at k = 0.123.\n",
    "# We need to find the corresponding frequency bin for k = 0.123.\n",
    "# The FFT output is in the range of frequencies from -0.5 to 0.5, so we scale accordingly.\n",
    "\n",
    "# Find the closest frequency bin to k_value\n",
    "k_index = torch.argmin(torch.abs(frequencies - k_value))\n",
    "\n",
    "# The characteristic function is just the Fourier transform value at the frequency corresponding to k_value\n",
    "char_func_value = sample_ft[k_index]\n",
    "print(f\"Characteristic function value at k = {k_value}: {char_func_value}\")\n"
   ]
  }
 ],
 "metadata": {
  "kernelspec": {
   "display_name": "Python 3",
   "language": "python",
   "name": "python3"
  },
  "language_info": {
   "codemirror_mode": {
    "name": "ipython",
    "version": 3
   },
   "file_extension": ".py",
   "mimetype": "text/x-python",
   "name": "python",
   "nbconvert_exporter": "python",
   "pygments_lexer": "ipython3",
   "version": "3.11.3"
  }
 },
 "nbformat": 4,
 "nbformat_minor": 2
}
