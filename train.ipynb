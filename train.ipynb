{
 "cells": [
  {
   "cell_type": "code",
   "execution_count": 4,
   "metadata": {},
   "outputs": [],
   "source": [
    "import numpy as np\n",
    "import matplotlib.pyplot as plt\n",
    "import torch\n",
    "import torch.nn as nn\n",
    "import torch.optim as optim"
   ]
  },
  {
   "cell_type": "code",
   "execution_count": 5,
   "metadata": {},
   "outputs": [],
   "source": [
    "def gen_sample(batch_size, N_agents, in_dim = None, L = None):\n",
    "    \"\"\" \n",
    "        generates an inital states in [0,L1] x [0,L2] x ... x [0, Ln] of shape [Batch_size, in_dim]\n",
    "    \"\"\"\n",
    "    if in_dim is None and L is None:\n",
    "        raise ValueError(\"Need either L or in dim to be set\")\n",
    "    if in_dim is None:\n",
    "        in_dim = len(L)\n",
    "    if L is None:\n",
    "        L = [1. for _ in range(in_dim)]\n",
    "    x = torch.rand(batch_size, N_agents, in_dim).abs()\n",
    "    for i in range(len(L)):\n",
    "        x[:, :, i] = torch.clamp(x[:, :, i], max=L[i])\n",
    "    return x\n"
   ]
  },
  {
   "cell_type": "code",
   "execution_count": 6,
   "metadata": {},
   "outputs": [],
   "source": [
    "N_Agents = 1\n",
    "in_dim = 1\n",
    "batch_size = 32\n",
    "n_samples = 128\n",
    "timesteps = 30\n",
    "lam = 0.5\n",
    "control_energy_reg = 1e-6 ### regularization on maximum control energy\n",
    "u_max = 100 # does not do anything currently\n",
    "thres = 1e-2 ### softness on constraint (will penalize when this much outside of rect)\n"
   ]
  },
  {
   "cell_type": "code",
   "execution_count": 7,
   "metadata": {},
   "outputs": [],
   "source": [
    "densties = ['custom']\n",
    "regions = [\n",
    "        torch.tensor([[.0, .3]]),\n",
    "        torch.tensor([[.6, .9]])\n",
    "        ]\n",
    "weights = [.5, .5]"
   ]
  },
  {
   "cell_type": "code",
   "execution_count": 8,
   "metadata": {},
   "outputs": [],
   "source": [
    "def custom_pdf(x):\n",
    "    \"\"\"\n",
    "     Define a custom probability density function (PDF).\n",
    "    \"\"\"\n",
    "    #x = x.item()\n",
    "    return np.where(((x > 0) & (x < 1)), 1, 0)\n",
    "    #return np.where(((x > 0) & (x < 0.3)) | ((x > 0.6) & (x < 0.9)), 5 / 3, 0)"
   ]
  },
  {
   "cell_type": "code",
   "execution_count": 9,
   "metadata": {},
   "outputs": [
    {
     "ename": "NameError",
     "evalue": "name 'k_max' is not defined",
     "output_type": "error",
     "traceback": [
      "\u001b[1;31m---------------------------------------------------------------------------\u001b[0m",
      "\u001b[1;31mNameError\u001b[0m                                 Traceback (most recent call last)",
      "\u001b[1;32mbenutzer\\home\\prass\\Master\\Code_RNN_KAN\\Recursive_kan\\train.ipynb Cell 6\u001b[0m line \u001b[0;36m9\n\u001b[0;32m      <a href='vscode-notebook-cell://hhi.de/benutzer/home/prass/Master/Code_RNN_KAN/Recursive_kan/train.ipynb#W5sZmlsZQ%3D%3D?line=6'>7</a>\u001b[0m importlib\u001b[39m.\u001b[39mreload(Ergodic_Loss)\n\u001b[0;32m      <a href='vscode-notebook-cell://hhi.de/benutzer/home/prass/Master/Code_RNN_KAN/Recursive_kan/train.ipynb#W5sZmlsZQ%3D%3D?line=7'>8</a>\u001b[0m importlib\u001b[39m.\u001b[39mreload(Recursive_KAN)\n\u001b[1;32m----> <a href='vscode-notebook-cell://hhi.de/benutzer/home/prass/Master/Code_RNN_KAN/Recursive_kan/train.ipynb#W5sZmlsZQ%3D%3D?line=8'>9</a>\u001b[0m criterion \u001b[39m=\u001b[39m Ergodic_Loss\u001b[39m.\u001b[39mErgodicity_Loss(N_Agents \u001b[39m=\u001b[39m N_Agents, n_timesteps \u001b[39m=\u001b[39m timesteps,L \u001b[39m=\u001b[39m \u001b[39mNone\u001b[39;00m, in_dim \u001b[39m=\u001b[39m in_dim, k_max \u001b[39m=\u001b[39m k_max, thres \u001b[39m=\u001b[39m thres, control_energy_reg \u001b[39m=\u001b[39m control_energy_reg, density \u001b[39m=\u001b[39m \u001b[39m'\u001b[39m\u001b[39mcustom\u001b[39m\u001b[39m'\u001b[39m,verbose \u001b[39m=\u001b[39m \u001b[39mFalse\u001b[39;00m, pdf \u001b[39m=\u001b[39m custom_pdf, max_pdf \u001b[39m=\u001b[39m \u001b[39m1\u001b[39m, num_samples \u001b[39m=\u001b[39m \u001b[39m100000\u001b[39m)\n\u001b[0;32m     <a href='vscode-notebook-cell://hhi.de/benutzer/home/prass/Master/Code_RNN_KAN/Recursive_kan/train.ipynb#W5sZmlsZQ%3D%3D?line=9'>10</a>\u001b[0m model \u001b[39m=\u001b[39m Recursive_KAN\u001b[39m.\u001b[39mKAN_RNN_Layer(N_Agents \u001b[39m=\u001b[39m N_Agents, in_dim \u001b[39m=\u001b[39m in_dim, hidden \u001b[39m=\u001b[39m \u001b[39m128\u001b[39m, depth \u001b[39m=\u001b[39m \u001b[39m2\u001b[39m, n_timesteps \u001b[39m=\u001b[39m timesteps,sys_param_lam\u001b[39m=\u001b[39m lam, u_max \u001b[39m=\u001b[39m u_max, network_type\u001b[39m=\u001b[39m\u001b[39m'\u001b[39m\u001b[39mmulti\u001b[39m\u001b[39m'\u001b[39m)\n\u001b[0;32m     <a href='vscode-notebook-cell://hhi.de/benutzer/home/prass/Master/Code_RNN_KAN/Recursive_kan/train.ipynb#W5sZmlsZQ%3D%3D?line=10'>11</a>\u001b[0m model\u001b[39m.\u001b[39minit_hidden(batch_size \u001b[39m=\u001b[39m batch_size)\n",
      "\u001b[1;31mNameError\u001b[0m: name 'k_max' is not defined"
     ]
    }
   ],
   "source": [
    "import Ergodic_Loss\n",
    "import Recursive_KAN\n",
    "import sys\n",
    "sys.path.append(r'C:\\Users\\JP\\Documents\\TU Berlin\\Master\\Code_RNN\\Recursive_kan\\Ergodic_Loss.py') \n",
    "sys.path.append(r'C:\\Users\\JP\\Documents\\TU Berlin\\Master\\Code_RNN\\Recursive_kan\\Recursive_KAN.py') \n",
    "import importlib\n",
    "importlib.reload(Ergodic_Loss)\n",
    "importlib.reload(Recursive_KAN)\n",
    "criterion = Ergodic_Loss.Ergodicity_Loss(N_Agents = N_Agents, n_timesteps = timesteps,L = None, in_dim = in_dim, k_max = k_max, thres = thres, control_energy_reg = control_energy_reg, density = 'custom',verbose = False, pdf = custom_pdf, max_pdf = 1, num_samples = 100000)\n",
    "model = Recursive_KAN.KAN_RNN_Layer(N_Agents = N_Agents, in_dim = in_dim, hidden = 128, depth = 2, n_timesteps = timesteps,sys_param_lam= lam, u_max = u_max, network_type='multi')\n",
    "model.init_hidden(batch_size = batch_size)"
   ]
  },
  {
   "cell_type": "code",
   "execution_count": null,
   "metadata": {},
   "outputs": [
    {
     "name": "stdout",
     "output_type": "stream",
     "text": [
      "per iter: 64.09437823295593 total time: 25637.751293182373\n",
      "Epoch [1/100], Loss: 0.007669\n",
      "Epoch [2/100], Loss: 0.001369\n",
      "Epoch [3/100], Loss: 0.000887\n",
      "Epoch [4/100], Loss: 0.000859\n",
      "Epoch [5/100], Loss: 0.000883\n",
      "Epoch [6/100], Loss: 0.000877\n",
      "Epoch [7/100], Loss: 0.000878\n",
      "Epoch [8/100], Loss: 0.000868\n",
      "Epoch [9/100], Loss: 0.000857\n",
      "Epoch [10/100], Loss: 0.000851\n",
      "Epoch [11/100], Loss: 0.000871\n",
      "Epoch [12/100], Loss: 0.000846\n",
      "Epoch [13/100], Loss: 0.000848\n",
      "Epoch [14/100], Loss: 0.000855\n",
      "Epoch [15/100], Loss: 0.000843\n",
      "Epoch [16/100], Loss: 0.000844\n",
      "Epoch [17/100], Loss: 0.000861\n",
      "Epoch [18/100], Loss: 0.000848\n",
      "Epoch [19/100], Loss: 0.000855\n",
      "Epoch [20/100], Loss: 0.000848\n",
      "Epoch [21/100], Loss: 0.000847\n",
      "Epoch [22/100], Loss: 0.000876\n",
      "Epoch [23/100], Loss: 0.000927\n",
      "Epoch [24/100], Loss: 0.000888\n",
      "Epoch [25/100], Loss: 0.000883\n",
      "Epoch [26/100], Loss: 0.000896\n",
      "Epoch [27/100], Loss: 0.000903\n",
      "Epoch [28/100], Loss: 0.000950\n",
      "Epoch [29/100], Loss: 0.000974\n",
      "Epoch [30/100], Loss: 0.000934\n",
      "Epoch [31/100], Loss: 0.000984\n",
      "Epoch [32/100], Loss: 0.001026\n",
      "Epoch [33/100], Loss: 0.001014\n",
      "Epoch [34/100], Loss: 0.000986\n",
      "Epoch [35/100], Loss: 0.000993\n",
      "Epoch [36/100], Loss: 0.000984\n",
      "Epoch [37/100], Loss: 0.000998\n",
      "Epoch [38/100], Loss: 0.001010\n",
      "Epoch [39/100], Loss: 0.001100\n",
      "Epoch [40/100], Loss: 0.000998\n",
      "Epoch [41/100], Loss: 0.001069\n",
      "Epoch [42/100], Loss: 0.001064\n",
      "Epoch [43/100], Loss: 0.001067\n",
      "Epoch [44/100], Loss: 0.001077\n",
      "Epoch [45/100], Loss: 0.001048\n",
      "Epoch [46/100], Loss: 0.001101\n",
      "Epoch [47/100], Loss: 0.001096\n",
      "Epoch [48/100], Loss: 0.001198\n",
      "Epoch [49/100], Loss: 0.001123\n",
      "Epoch [50/100], Loss: 0.001052\n",
      "Epoch [51/100], Loss: 0.001191\n",
      "Epoch [52/100], Loss: 0.001168\n",
      "Epoch [53/100], Loss: 0.001121\n",
      "Epoch [54/100], Loss: 0.001197\n",
      "Epoch [55/100], Loss: 0.001188\n",
      "Epoch [56/100], Loss: 0.001162\n",
      "Epoch [57/100], Loss: 0.001193\n",
      "Epoch [58/100], Loss: 0.001193\n",
      "Epoch [59/100], Loss: 0.001130\n",
      "Epoch [60/100], Loss: 0.001331\n",
      "Epoch [61/100], Loss: 0.001123\n",
      "Epoch [62/100], Loss: 0.001348\n",
      "Epoch [63/100], Loss: 0.001225\n",
      "Epoch [64/100], Loss: 0.001237\n",
      "Epoch [65/100], Loss: 0.001276\n",
      "Epoch [66/100], Loss: 0.001274\n",
      "Epoch [67/100], Loss: 0.001310\n",
      "Epoch [68/100], Loss: 0.001310\n",
      "Epoch [69/100], Loss: 0.001306\n",
      "Epoch [70/100], Loss: 0.001272\n",
      "Epoch [71/100], Loss: 0.001376\n",
      "Epoch [72/100], Loss: 0.001330\n",
      "Epoch [73/100], Loss: 0.001427\n",
      "Epoch [74/100], Loss: 0.001264\n",
      "Epoch [75/100], Loss: 0.001293\n",
      "Epoch [76/100], Loss: 0.001290\n",
      "Epoch [77/100], Loss: 0.001385\n",
      "Epoch [78/100], Loss: 0.001315\n",
      "Epoch [79/100], Loss: 0.001322\n",
      "Epoch [80/100], Loss: 0.001252\n",
      "Epoch [81/100], Loss: 0.001339\n",
      "Epoch [82/100], Loss: 0.001396\n",
      "Epoch [83/100], Loss: 0.001437\n",
      "Epoch [84/100], Loss: 0.001230\n",
      "Epoch [85/100], Loss: 0.001422\n",
      "Epoch [86/100], Loss: 0.001445\n",
      "Epoch [87/100], Loss: 0.001390\n",
      "Epoch [88/100], Loss: 0.001445\n",
      "Epoch [89/100], Loss: 0.001429\n",
      "Epoch [90/100], Loss: 0.001466\n",
      "Epoch [91/100], Loss: 0.001296\n",
      "Epoch [92/100], Loss: 0.001494\n",
      "Epoch [93/100], Loss: 0.001308\n",
      "Epoch [94/100], Loss: 0.001432\n",
      "Epoch [95/100], Loss: 0.001356\n",
      "Epoch [96/100], Loss: 0.001335\n",
      "Epoch [97/100], Loss: 0.001335\n",
      "Epoch [98/100], Loss: 0.001499\n",
      "Epoch [99/100], Loss: 0.001445\n"
     ]
    },
    {
     "name": "stderr",
     "output_type": "stream",
     "text": [
      "No artists with labels found to put in legend.  Note that artists whose label start with an underscore are ignored when legend() is called with no argument.\n"
     ]
    },
    {
     "name": "stdout",
     "output_type": "stream",
     "text": [
      "Epoch [100/100], Loss: 0.001483\n"
     ]
    },
    {
     "data": {
      "image/png": "[encoded data removed]",
      "text/plain": [
       "<Figure size 640x480 with 1 Axes>"
      ]
     },
     "metadata": {},
     "output_type": "display_data"
    },
    {
     "name": "stdout",
     "output_type": "stream",
     "text": [
      "Training Complete!\n"
     ]
    }
   ],
   "source": [
    "import time\n",
    "epochs = 100  # Number of epochs to train\n",
    "optimizer = optim.AdamW(model.parameters(), lr=0.001)\n",
    "train_loss = []\n",
    "test_loss = []\n",
    "model.train()  # Set the model to training mode\n",
    "show = True\n",
    "for epoch in range(epochs):\n",
    "    running_loss = 0.0 \n",
    "    for samples in range(n_samples // batch_size):\n",
    "        start_time = time.time()\n",
    "        model.init_hidden(batch_size = batch_size)\n",
    "        optimizer.zero_grad()\n",
    "        control , outputs = model(gen_sample(batch_size = batch_size, N_agents = N_Agents, in_dim = in_dim))\n",
    "        loss = criterion(x = outputs, u = control) + model.penalty #* 1e-2 ## punishment on leaving the rect\n",
    "        loss.backward()\n",
    "        optimizer.step()\n",
    "        running_loss += loss.item()\n",
    "        if show:\n",
    "            show = False\n",
    "            print(\"per iter:\", time.time()- start_time,\"total time:\" , (time.time()- start_time) * (n_samples / batch_size) * epochs)\n",
    "    avg_loss = running_loss / (n_samples)\n",
    "    train_loss.append(avg_loss)\n",
    "    print(f\"Epoch [{epoch+1}/{epochs}], Loss: {avg_loss:.6f}\")\n",
    "plt.plot(train_loss)\n",
    "plt.title(f'train_loss uniform distribution with system dynamic x(k + 1) = x(k) + {lam} u')\n",
    "plt.legend()\n",
    "plt.show()\n",
    "print(\"Training Complete!\")"
   ]
  },
  {
   "cell_type": "code",
   "execution_count": null,
   "metadata": {},
   "outputs": [
    {
     "ename": "NameError",
     "evalue": "name 'model' is not defined",
     "output_type": "error",
     "traceback": [
      "\u001b[1;31m---------------------------------------------------------------------------\u001b[0m",
      "\u001b[1;31mNameError\u001b[0m                                 Traceback (most recent call last)",
      "\u001b[1;32mbenutzer\\home\\prass\\Master\\Code_RNN_KAN\\Recursive_kan\\train.ipynb Cell 8\u001b[0m line \u001b[0;36m2\n\u001b[0;32m      <a href='vscode-notebook-cell://hhi.de/benutzer/home/prass/Master/Code_RNN_KAN/Recursive_kan/train.ipynb#X10sZmlsZQ%3D%3D?line=0'>1</a>\u001b[0m \u001b[39m#plot trajectory\u001b[39;00m\n\u001b[1;32m----> <a href='vscode-notebook-cell://hhi.de/benutzer/home/prass/Master/Code_RNN_KAN/Recursive_kan/train.ipynb#X10sZmlsZQ%3D%3D?line=1'>2</a>\u001b[0m model\u001b[39m.\u001b[39meval()\n\u001b[0;32m      <a href='vscode-notebook-cell://hhi.de/benutzer/home/prass/Master/Code_RNN_KAN/Recursive_kan/train.ipynb#X10sZmlsZQ%3D%3D?line=2'>3</a>\u001b[0m inital_state \u001b[39m=\u001b[39m gen_sample(batch_size \u001b[39m=\u001b[39m \u001b[39m1\u001b[39m, N_agents \u001b[39m=\u001b[39m N_Agents, in_dim \u001b[39m=\u001b[39m in_dim)\n\u001b[0;32m      <a href='vscode-notebook-cell://hhi.de/benutzer/home/prass/Master/Code_RNN_KAN/Recursive_kan/train.ipynb#X10sZmlsZQ%3D%3D?line=3'>4</a>\u001b[0m model\u001b[39m.\u001b[39minit_hidden(batch_size \u001b[39m=\u001b[39m \u001b[39m1\u001b[39m)\n",
      "\u001b[1;31mNameError\u001b[0m: name 'model' is not defined"
     ]
    }
   ],
   "source": [
    "#plot trajectory\n",
    "model.eval()\n",
    "inital_state = gen_sample(batch_size = 1, N_agents = N_Agents, in_dim = in_dim)\n",
    "model.init_hidden(batch_size = 1)\n",
    "outs, control = model(inital_state)\n",
    "for j in range(N_Agents):\n",
    "    plt.plot(outs[:,:,j,:].squeeze().detach(), label = f'Agent {j}')\n",
    "plt.title(f'Trajectoriesover 1D-rectangular system dynamic x(k + 1) = x(k) + {lam} u, constraint on energy {control_energy_reg} (|| u ||)^2')\n",
    "plt.legend()\n",
    "plt.show()\n",
    "\n"
   ]
  },
  {
   "cell_type": "code",
   "execution_count": null,
   "metadata": {},
   "outputs": [
    {
     "name": "stdout",
     "output_type": "stream",
     "text": [
      "tensor([ 1.0000e+00, -9.0785e-04,  1.9201e-03,  2.6349e-03, -9.6312e-04,\n",
      "        -3.7415e-03,  6.0854e-03,  2.7045e-03,  1.3448e-03,  1.0747e-03,\n",
      "        -6.2643e-03,  3.3383e-03, -2.7511e-03,  1.2237e-03, -6.8647e-05,\n",
      "        -5.3557e-03]) target distribution\n",
      "model tensor([[ 1.0000,  0.1403, -0.1934, -0.2008, -0.0804,  0.0289, -0.0285, -0.0610,\n",
      "          0.0655,  0.0830, -0.0048, -0.0349,  0.0189, -0.0102, -0.0252, -0.0291]],\n",
      "       grad_fn=<CopySlices>) target tensor([ 1.0000e+00, -9.0785e-04,  1.9201e-03,  2.6349e-03, -9.6312e-04,\n",
      "        -3.7415e-03,  6.0854e-03,  2.7045e-03,  1.3448e-03,  1.0747e-03,\n",
      "        -6.2643e-03,  3.3383e-03, -2.7511e-03,  1.2237e-03, -6.8647e-05,\n",
      "        -5.3557e-03])\n",
      "scaling tensor([1.0000e+00, 9.2000e-02, 2.4705e-02, 1.1133e-02, 6.2927e-03, 4.0365e-03,\n",
      "        2.8066e-03, 2.0635e-03, 1.5806e-03, 1.2493e-03, 1.0122e-03, 8.3666e-04,\n",
      "        7.0312e-04, 5.9917e-04, 5.1668e-04, 4.5011e-04])\n"
     ]
    },
    {
     "data": {
      "text/plain": [
       "tensor(0.0632, grad_fn=<AddBackward0>)"
      ]
     },
     "execution_count": 9,
     "metadata": {},
     "output_type": "execute_result"
    }
   ],
   "source": [
    "import Ergodic_Loss\n",
    "import sys\n",
    "sys.path.append(r'C:\\Users\\JP\\Documents\\TU Berlin\\Master\\Code_RNN\\Recursive_kan\\Ergodic_Loss.py') \n",
    "import importlib\n",
    "importlib.reload(Ergodic_Loss)\n",
    "criterion = Ergodic_Loss.Ergodicity_Loss(N_Agents = N_Agents, n_timesteps = timesteps,L = None, in_dim = in_dim, k_max = k_max,control_energy_reg = control_energy_reg, density = 'custom', pdf = custom_pdf, max_pdf = 5 / 3, num_samples = 100000)\n",
    "inital_state = gen_sample(batch_size = 1, N_agents = N_Agents, in_dim = in_dim)\n",
    "model.init_hidden(batch_size = 1)\n",
    "outs, control = model(inital_state)\n",
    "criterion.verbose = True\n",
    "criterion(x = outs, u = control)"
   ]
  },
  {
   "cell_type": "code",
   "execution_count": null,
   "metadata": {},
   "outputs": [
    {
     "name": "stdout",
     "output_type": "stream",
     "text": [
      "model tensor([[ 1.0000,  0.1603, -0.1610, -0.1885, -0.0389,  0.0196,  0.0245, -0.0146,\n",
      "          0.0269,  0.0640,  0.0021, -0.0211,  0.0068,  0.0606, -0.1060, -0.0170]],\n",
      "       grad_fn=<CopySlices>) target tensor([ 1.0000e+00, -9.0785e-04,  1.9201e-03,  2.6349e-03, -9.6312e-04,\n",
      "        -3.7415e-03,  6.0854e-03,  2.7045e-03,  1.3448e-03,  1.0747e-03,\n",
      "        -6.2643e-03,  3.3383e-03, -2.7511e-03,  1.2237e-03, -6.8647e-05,\n",
      "        -5.3557e-03])\n",
      "scaling tensor([1.0000e+00, 9.2000e-02, 2.4705e-02, 1.1133e-02, 6.2927e-03, 4.0365e-03,\n",
      "        2.8066e-03, 2.0635e-03, 1.5806e-03, 1.2493e-03, 1.0122e-03, 8.3666e-04,\n",
      "        7.0312e-04, 5.9917e-04, 5.1668e-04, 4.5011e-04])\n"
     ]
    },
    {
     "data": {
      "text/plain": [
       "tensor(0.0570, grad_fn=<AddBackward0>)"
      ]
     },
     "execution_count": 10,
     "metadata": {},
     "output_type": "execute_result"
    }
   ],
   "source": [
    "criterion(x = outs, u = control)"
   ]
  }
 ],
 "metadata": {
  "kernelspec": {
   "display_name": "Python 3",
   "language": "python",
   "name": "python3"
  },
  "language_info": {
   "codemirror_mode": {
    "name": "ipython",
    "version": 3
   },
   "file_extension": ".py",
   "mimetype": "text/x-python",
   "name": "python",
   "nbconvert_exporter": "python",
   "pygments_lexer": "ipython3",
   "version": "3.11.0"
  }
 },
 "nbformat": 4,
 "nbformat_minor": 2
}
