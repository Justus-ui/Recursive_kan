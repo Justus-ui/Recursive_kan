{
 "cells": [
  {
   "cell_type": "code",
   "execution_count": 17,
   "metadata": {},
   "outputs": [
    {
     "name": "stdout",
     "output_type": "stream",
     "text": [
      "TkAgg\n"
     ]
    }
   ],
   "source": [
    "import numpy as np\n",
    "import matplotlib\n",
    "print(matplotlib.get_backend())\n",
    "matplotlib.use('TkAgg')\n",
    "import matplotlib.pyplot as plt\n",
    "from scipy.integrate import dblquad\n",
    "\n",
    "# Function to calculate h_k (normalization factor)\n",
    "def calculate_hk(K1, K2, L1, L2):\n",
    "    # Defining the integrand for the double integral\n",
    "    def integrand(x1, x2):\n",
    "        return np.cos(K1 * np.pi * x1 / L1)**2 * np.cos(K2 * np.pi * x2 / L2)**2\n",
    "    \n",
    "    # Perform the double integral over the domain [0, L1] x [0, L2]\n",
    "    integral, _ = dblquad(integrand, 0, L1, lambda x1: 0, lambda x1: L2)\n",
    "    \n",
    "    # Return the square root of the integral as the normalization factor\n",
    "    return np.sqrt(integral)\n",
    "\n",
    "# Function to compute k(x) for given K1, K2\n",
    "def k(x1, x2, K1, K2, L1, L2):\n",
    "    # Compute k1 and k2\n",
    "    k1 = K1 * np.pi / L1\n",
    "    k2 = K2 * np.pi / L2\n",
    "    \n",
    "    # Compute the normalization factor hk\n",
    "    hk = calculate_hk(K1, K2, L1, L2)\n",
    "    \n",
    "    # Calculate the function k(x) = hk * cos(k1 * x1) * cos(k2 * x2)\n",
    "    return hk * np.cos(k1 * x1) * np.cos(k2 * x2)\n",
    "\n",
    "# Function to plot k(x) over a grid of x1 and x2\n",
    "def plot_k(K1, K2, L1=1, L2=1, resolution=100):\n",
    "    # Create a grid of x1 and x2\n",
    "    x1 = np.linspace(0, L1, resolution)\n",
    "    x2 = np.linspace(0, L2, resolution)\n",
    "    \n",
    "    X1, X2 = np.meshgrid(x1, x2)\n",
    "    \n",
    "    # Calculate k(x) over the grid\n",
    "    K_vals = k(X1, X2, K1, K2, L1, L2)\n",
    "    \n",
    "    # Plot the result using a contour plot\n",
    "    plt.figure(figsize=(8, 6))\n",
    "    contour = plt.contourf(X1, X2, K_vals, levels=20, cmap='viridis')\n",
    "    plt.colorbar(contour)\n",
    "    plt.title(f'Plot of k(x) for K1={K1}, K2={K2}')\n",
    "    plt.xlabel('$x_1$')\n",
    "    plt.ylabel('$x_2$')\n",
    "    plt.show()\n",
    "\n",
    "# Example usage\n",
    "K1 = 0\n",
    "K2 = 1\n",
    "plot_k(K1, K2)\n"
   ]
  },
  {
   "cell_type": "code",
   "execution_count": 20,
   "metadata": {},
   "outputs": [],
   "source": [
    "import numpy as np\n",
    "import matplotlib.pyplot as plt\n",
    "\n",
    "# Function to compute the Gaussian Radial Basis Function (RBF)\n",
    "def gaussian_rbf(x1, x2, c1, c2, sigma=1.0):\n",
    "    # Compute the squared Euclidean distance between (x1, x2) and the center (c1, c2)\n",
    "    distance_squared = (x1 - c1)**2 + (x2 - c2)**2\n",
    "    # Compute the Gaussian function\n",
    "    return np.exp(-distance_squared / (2 * sigma**2))\n",
    "\n",
    "# Function to plot the Gaussian RBF\n",
    "def plot_gaussian_rbf(c1, c2, sigma=1.0, L1=1, L2=1, resolution=100):\n",
    "    # Create a grid of x1 and x2\n",
    "    x1 = np.linspace(0, L1, resolution)\n",
    "    x2 = np.linspace(0, L2, resolution)\n",
    "    \n",
    "    X1, X2 = np.meshgrid(x1, x2)\n",
    "    \n",
    "    # Calculate the Gaussian RBF values over the grid\n",
    "    RBF_vals = gaussian_rbf(X1, X2, c1, c2, sigma)\n",
    "    \n",
    "    # Plot the result using a contour plot\n",
    "    plt.figure(figsize=(8, 6))\n",
    "    contour = plt.contourf(X1, X2, RBF_vals, levels=20, cmap='viridis')\n",
    "    plt.colorbar(contour)\n",
    "    plt.title(f'Gaussian RBF centered at ({c1}, {c2})')\n",
    "    plt.xlabel('$x_1$')\n",
    "    plt.ylabel('$x_2$')\n",
    "    plt.show()\n",
    "\n",
    "# Example usage\n",
    "c1 = .5  # x-coordinate of the center\n",
    "c2 = .5  # y-coordinate of the center\n",
    "plot_gaussian_rbf(c1, c2, sigma=1.)\n"
   ]
  },
  {
   "cell_type": "code",
   "execution_count": 123,
   "metadata": {},
   "outputs": [
    {
     "name": "stdout",
     "output_type": "stream",
     "text": [
      "Integral result: 0.10763805530317361\n"
     ]
    }
   ],
   "source": [
    "import numpy as np\n",
    "from scipy.integrate import dblquad\n",
    "import math\n",
    "\n",
    "# Gaussian kernel using the sup norm\n",
    "def gaussian_kernel(x1, x2, sigma):\n",
    "    return np.exp(- (max(abs(x1 - 0.5), abs(x2 - 0.5))**2) / (2 * sigma**2))\n",
    "\n",
    "# Set sigma\n",
    "sigma = 0.116\n",
    "\n",
    "# Numerical integration over [0, 1]x[0, 1]\n",
    "result, _ = dblquad(gaussian_kernel, 0, 1, 0, 1, args=(sigma,))\n",
    "print(\"Integral result:\", result)\n",
    "\n"
   ]
  },
  {
   "cell_type": "code",
   "execution_count": 126,
   "metadata": {},
   "outputs": [
    {
     "name": "stdout",
     "output_type": "stream",
     "text": [
      "1D Gaussian Integral result: 0.2907641403194139\n"
     ]
    }
   ],
   "source": [
    "import numpy as np\n",
    "from scipy.integrate import quad\n",
    "\n",
    "# 1D Gaussian kernel\n",
    "def gaussian_kernel_1d(x, x0, sigma):\n",
    "    return np.exp(- (x - x0)**2 / (2 * sigma**2))\n",
    "\n",
    "# Set parameters\n",
    "x0 = 0.5  # center\n",
    "sigma = 0.116 # standard deviation\n",
    "# Numerical integration over [0, 1]\n",
    "result, _ = quad(gaussian_kernel_1d, 0, 1, args=(x0, sigma))\n",
    "print(\"1D Gaussian Integral result:\", result)\n"
   ]
  },
  {
   "cell_type": "code",
   "execution_count": 130,
   "metadata": {},
   "outputs": [
    {
     "name": "stdout",
     "output_type": "stream",
     "text": [
      "Result of the integration: 0.2907641403194139\n"
     ]
    }
   ],
   "source": [
    "import numpy as np\n",
    "from scipy.integrate import quad\n",
    "\n",
    "# Define the Gaussian kernel\n",
    "def gaussian_kernel(x1, x2, sigma):\n",
    "    return np.exp(- ((x1 - 0.5)**2 + (x2 - 0.5)**2) / (2 * sigma**2))\n",
    "\n",
    "# Define the transformation g(tau) = (tau/t, tau/t)\n",
    "def g(tau, t):\n",
    "    return 0.5, tau / t  # return (x1, x2) as (tau/t, tau/t)\n",
    "\n",
    "# Set sigma\n",
    "sigma = 0.116\n",
    "\n",
    "# Define the integrand function using the transformation g(tau)\n",
    "def integrand(tau, t, sigma):\n",
    "    x1, x2 = g(tau, t)\n",
    "    return gaussian_kernel(x1, x2, sigma)\n",
    "\n",
    "# Perform numerical integration over tau from 0 to t\n",
    "t = 1  # example value of t\n",
    "result, _ = quad(integrand, 0, t, args=(t, sigma))\n",
    "\n",
    "print(\"Result of the integration:\", result)\n"
   ]
  }
 ],
 "metadata": {
  "kernelspec": {
   "display_name": "Python 3",
   "language": "python",
   "name": "python3"
  },
  "language_info": {
   "codemirror_mode": {
    "name": "ipython",
    "version": 3
   },
   "file_extension": ".py",
   "mimetype": "text/x-python",
   "name": "python",
   "nbconvert_exporter": "python",
   "pygments_lexer": "ipython3",
   "version": "3.11.0"
  }
 },
 "nbformat": 4,
 "nbformat_minor": 2
}
